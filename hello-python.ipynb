{
 "cells": [
  {
   "cell_type": "markdown",
   "id": "38dda283-c7df-4e34-b38b-49fe9a486dec",
   "metadata": {},
   "source": [
    "# My first hello world in Python"
   ]
  },
  {
   "cell_type": "code",
   "execution_count": 1,
   "id": "abbed679-0d5d-4b29-a11a-ea4fa52b8688",
   "metadata": {},
   "outputs": [
    {
     "name": "stdout",
     "output_type": "stream",
     "text": [
      "Hello World!\n"
     ]
    }
   ],
   "source": [
    "print(\"Hello World!\")"
   ]
  },
  {
   "cell_type": "markdown",
   "id": "7d9e75d3-0bc7-455d-8b63-10b7e90e4b9d",
   "metadata": {},
   "source": [
    "# Indentation"
   ]
  },
  {
   "cell_type": "code",
   "execution_count": 2,
   "id": "d4e3d0a1-2c90-4e22-a9b7-55e9a7798fa7",
   "metadata": {},
   "outputs": [
    {
     "name": "stdout",
     "output_type": "stream",
     "text": [
      "No!\n"
     ]
    }
   ],
   "source": [
    "x = 5\n",
    "if x < 3:\n",
    "    print (\"Yes!\")\n",
    "else:\n",
    "    print(\"No!\")"
   ]
  },
  {
   "cell_type": "markdown",
   "id": "74c94438-3f9e-42a9-8ca0-5cc3a990c8ed",
   "metadata": {},
   "source": [
    "# My first comment"
   ]
  },
  {
   "cell_type": "code",
   "execution_count": 5,
   "id": "a74baf39-c315-47d9-a011-6b917aa97f63",
   "metadata": {},
   "outputs": [
    {
     "name": "stdout",
     "output_type": "stream",
     "text": [
      "my comment\n"
     ]
    }
   ],
   "source": [
    "\"\"\"\n",
    "This is a multi-line comment\n",
    "that spans multiple lines.\n",
    "\"\"\"\n",
    "print(\"my comment\")\n"
   ]
  },
  {
   "cell_type": "markdown",
   "id": "879f8057-1806-4a0b-84a1-4455f89a636a",
   "metadata": {
    "jp-MarkdownHeadingCollapsed": true
   },
   "source": [
    "# Variables\n"
   ]
  },
  {
   "cell_type": "code",
   "execution_count": 6,
   "id": "7f037953-92e7-4f76-931a-2663432233c5",
   "metadata": {},
   "outputs": [],
   "source": [
    "#integer\n",
    "Age = 25\n",
    "\n",
    "#float\n",
    "temperature = 36.6\n",
    "\n",
    "#string\n",
    "greet = \"hello world\""
   ]
  },
  {
   "cell_type": "code",
   "execution_count": 7,
   "id": "50348a47-7553-4c9e-9f2e-9fb7d6549b8c",
   "metadata": {},
   "outputs": [
    {
     "name": "stdout",
     "output_type": "stream",
     "text": [
      "Age :  25\n"
     ]
    }
   ],
   "source": [
    "print(\"Age : \",Age)"
   ]
  },
  {
   "cell_type": "code",
   "execution_count": 8,
   "id": "e0cbac88-1315-4eae-b336-1738d70fb064",
   "metadata": {},
   "outputs": [
    {
     "name": "stdout",
     "output_type": "stream",
     "text": [
      "Suhu :  36.6\n"
     ]
    }
   ],
   "source": [
    "print(\"Suhu : \",temperature)"
   ]
  },
  {
   "cell_type": "code",
   "execution_count": 9,
   "id": "5a68c61d-c4b7-45c7-b51e-c2019b4ad8f0",
   "metadata": {},
   "outputs": [
    {
     "name": "stdout",
     "output_type": "stream",
     "text": [
      "Salam ;  hello world\n"
     ]
    }
   ],
   "source": [
    "print(\"Salam ; \",greet)"
   ]
  },
  {
   "cell_type": "markdown",
   "id": "328bfaec-7fda-4661-b009-de86ecd47ec5",
   "metadata": {
    "jp-MarkdownHeadingCollapsed": true
   },
   "source": [
    "# Data Type\n"
   ]
  },
  {
   "cell_type": "code",
   "execution_count": 11,
   "id": "158ca0bf-f3c8-499e-b84a-d58d10136f14",
   "metadata": {},
   "outputs": [
    {
     "name": "stdout",
     "output_type": "stream",
     "text": [
      "<class 'int'>\n",
      "<class 'float'>\n",
      "<class 'str'>\n"
     ]
    }
   ],
   "source": [
    "print(type(Age))\n",
    "print(type(temperature))\n",
    "print(type(greet))"
   ]
  },
  {
   "cell_type": "markdown",
   "id": "ad97dfba-2427-4c45-bc62-34e28a8fc914",
   "metadata": {
    "jp-MarkdownHeadingCollapsed": true
   },
   "source": [
    "# Prompting"
   ]
  },
  {
   "cell_type": "code",
   "execution_count": 12,
   "id": "91675af8-595b-4b36-936c-57ec4af48c90",
   "metadata": {},
   "outputs": [
    {
     "name": "stdin",
     "output_type": "stream",
     "text": [
      "Umur berapa?  35 tahun\n",
      "Tinggi berapa ye?  171 cm\n",
      "Berat berapa pula?  110 kg\n"
     ]
    },
    {
     "name": "stdout",
     "output_type": "stream",
     "text": [
      "So,  you're 35 tahun years old. 171 cm tall, and 110 kg heavy.\n"
     ]
    }
   ],
   "source": [
    "age = input(\"Umur berapa? \")\n",
    "height = input(\"Tinggi berapa ye? \")\n",
    "weight = input(\"Berat berapa pula? \")\n",
    "\n",
    "print(f\"So,  you're {age} years old. {height} tall, and {weight} heavy.\")\n"
   ]
  },
  {
   "cell_type": "code",
   "execution_count": 16,
   "id": "952e159d-5ff7-4f3c-bb18-8347388c9efd",
   "metadata": {},
   "outputs": [
    {
     "ename": "SyntaxError",
     "evalue": "unterminated string literal (detected at line 1) (1432339880.py, line 1)",
     "output_type": "error",
     "traceback": [
      "\u001b[0;36m  Cell \u001b[0;32mIn[16], line 1\u001b[0;36m\u001b[0m\n\u001b[0;31m    print(So, you're age is {}. height is {}, weight is {}\".format(age,height,weight)\u001b[0m\n\u001b[0m                 ^\u001b[0m\n\u001b[0;31mSyntaxError\u001b[0m\u001b[0;31m:\u001b[0m unterminated string literal (detected at line 1)\n"
     ]
    }
   ],
   "source": [
    "print(So, you're age is {}. height is {}, weight is {}\".format(age,height,weight)\n"
   ]
  },
  {
   "cell_type": "code",
   "execution_count": 17,
   "id": "677fd4f3-fd40-4b38-9f9f-b5d879951fbe",
   "metadata": {},
   "outputs": [
    {
     "name": "stdout",
     "output_type": "stream",
     "text": [
      "So, your age is 35 tahun. Height is 171 cm, weight is 110 kg\n"
     ]
    }
   ],
   "source": [
    "print(\"So, your age is {}. Height is {}, weight is {}\".format(age, height, weight))\n"
   ]
  },
  {
   "cell_type": "markdown",
   "id": "c4d10582-82fa-4c39-8983-4c537fca52e8",
   "metadata": {
    "jp-MarkdownHeadingCollapsed": true
   },
   "source": [
    "# List"
   ]
  },
  {
   "cell_type": "code",
   "execution_count": 18,
   "id": "36bc8fb5-9808-484f-80b1-ca88915992c5",
   "metadata": {},
   "outputs": [
    {
     "name": "stdout",
     "output_type": "stream",
     "text": [
      "apple\n"
     ]
    }
   ],
   "source": [
    "fruits = [\"apple\",\"banana\", \"cherry\"]\n",
    "print(fruits[0])"
   ]
  },
  {
   "cell_type": "code",
   "execution_count": 19,
   "id": "d4e0965a-8300-4c0a-bf56-987ee7178225",
   "metadata": {},
   "outputs": [
    {
     "name": "stdout",
     "output_type": "stream",
     "text": [
      "['apple', 'blueberry', 'cherry']\n"
     ]
    }
   ],
   "source": [
    "fruits[1] = \"blueberry\"\n",
    "print(fruits)"
   ]
  },
  {
   "cell_type": "markdown",
   "id": "45a84fa9-46c3-4f50-a4f6-a25a8ebf15c1",
   "metadata": {
    "jp-MarkdownHeadingCollapsed": true
   },
   "source": [
    "# Tuples"
   ]
  },
  {
   "cell_type": "code",
   "execution_count": 20,
   "id": "2144b337-086f-4c4b-a041-ad7186cf0975",
   "metadata": {},
   "outputs": [
    {
     "name": "stdout",
     "output_type": "stream",
     "text": [
      "10\n"
     ]
    }
   ],
   "source": [
    "coordinates = (10,20)\n",
    "print(coordinates[0])\n"
   ]
  },
  {
   "cell_type": "markdown",
   "id": "c0b45aac-8d69-4fba-b0ec-df7b6d83ff39",
   "metadata": {
    "jp-MarkdownHeadingCollapsed": true
   },
   "source": [
    "# Dictionaries"
   ]
  },
  {
   "cell_type": "code",
   "execution_count": 22,
   "id": "c86e0dd1-5beb-4ec6-a602-ae957084bf66",
   "metadata": {},
   "outputs": [
    {
     "name": "stdout",
     "output_type": "stream",
     "text": [
      "Raheym\n"
     ]
    }
   ],
   "source": [
    "person = {\"name\": \"Raheym\",\"age\":25}\n",
    "print (person[\"name\"])"
   ]
  },
  {
   "cell_type": "code",
   "execution_count": 23,
   "id": "25f4d3c0-9b3b-4767-9df2-8c34413d03f4",
   "metadata": {},
   "outputs": [
    {
     "name": "stdout",
     "output_type": "stream",
     "text": [
      "{'name': 'Raheym', 'age': 26}\n"
     ]
    }
   ],
   "source": [
    "person[\"age\"] = 26\n",
    "print(person)\n"
   ]
  },
  {
   "cell_type": "markdown",
   "id": "fdc93f68-8a84-46c8-83e0-0971d4c293c6",
   "metadata": {},
   "source": [
    "# Functions"
   ]
  },
  {
   "cell_type": "code",
   "execution_count": 24,
   "id": "e0ee4409-86cf-46cd-b5f2-7e0720500c36",
   "metadata": {},
   "outputs": [
    {
     "name": "stdout",
     "output_type": "stream",
     "text": [
      "15\n",
      "25\n",
      "45\n"
     ]
    }
   ],
   "source": [
    "def my_function(x):\n",
    "    return 5 * x\n",
    "print(my_function(3))\n",
    "print(my_function(5))\n",
    "print(my_function(9))"
   ]
  },
  {
   "cell_type": "code",
   "execution_count": 25,
   "id": "ee962e20-5c45-41fd-843c-f679741a5549",
   "metadata": {},
   "outputs": [
    {
     "name": "stdout",
     "output_type": "stream",
     "text": [
      "9\n",
      "25\n",
      "63\n"
     ]
    }
   ],
   "source": [
    "def my_function(x,y):\n",
    "    return y * x\n",
    "print(my_function(3,3))\n",
    "print(my_function(5,5))\n",
    "print(my_function(9,7))"
   ]
  },
  {
   "cell_type": "code",
   "execution_count": null,
   "id": "297c7e4b-b4f5-4765-994c-47fcdd6d73b1",
   "metadata": {},
   "outputs": [],
   "source": []
  }
 ],
 "metadata": {
  "kernelspec": {
   "display_name": "Python 3 (ipykernel)",
   "language": "python",
   "name": "python3"
  },
  "language_info": {
   "codemirror_mode": {
    "name": "ipython",
    "version": 3
   },
   "file_extension": ".py",
   "mimetype": "text/x-python",
   "name": "python",
   "nbconvert_exporter": "python",
   "pygments_lexer": "ipython3",
   "version": "3.10.12"
  }
 },
 "nbformat": 4,
 "nbformat_minor": 5
}
